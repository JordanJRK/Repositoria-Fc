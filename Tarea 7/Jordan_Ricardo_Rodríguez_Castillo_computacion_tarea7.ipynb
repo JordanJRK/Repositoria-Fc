{
  "cells": [
    {
      "cell_type": "markdown",
      "metadata": {
        "id": "wV7q_ZvvY1-T"
      },
      "source": [
        "# Tarea 7: Revisión de los conceptos básicos de Python\n",
        "### Computación - 8108\n",
        "#### Facultad de Ciencias - UNAM\n",
        "#### Profesores: C. Fís. Omar Trejo, C. Fís. Iván Jiménez, Pedro Flores-Silva\n",
        "\n",
        "Instrucciones: Este notebook contiene una serie de ejercicios que deben ser resueltos. Cada ejercicio se encuentra en una celda, ya sea de código o Markdown. Debes crear una o dos *celdas debajo de cada ejercicio* con tu(s) respectiva(s) respuestas. No modifiques las celdas originales.\n",
        "Recuerda que para ejecutar el código de una celda, presionar `Ctlr + Enter` o bien el boton de `play` en el editor Jupyter notebook.\n",
        "\n",
        "Cada ejercicio tendrá diferente valor, y se indicará en la celda de éste. La calificación final será la suma de los puntos obtenidos en cada ejercicio. Se calificará considerando la calidad de la respuesta, la claridad de la explicación y la correctitud del código. Por ejemplo, si el código no ejecuta la respuesta correcta pero se da una idea textual, se demuestra que hay comprensión del problema y el código hace sentido para el revisor, se otorgará una calificación parcial. Esto es, las respuestas no solo se evaluarán como bien o mal, sino que se considerará el esfuerzo. \n",
        "\n",
        "El codigo que realices debes comentarlo donde creas necesario, no vale no hacer ningún comentario. Recuerda que los comentarios son importantes para que el código sea legible y entendible, éstos se agregan con el símbolo # ."
      ]
    },
    {
      "cell_type": "markdown",
      "metadata": {
        "id": "0SZaNjBrY1-W"
      },
      "source": [
        "### Ejercicio 1 (1 punto):\n",
        "En una celda Markdown contesta: ¿Qué es un nombre reservado en python? Enlista 5 ejemplos de nombres reservados en python y describe su función (aquí debes investigar su función si es que aún no hemos tratado dicho nombre reservado)."
      ]
    },
    {
      "cell_type": "code",
      "source": [
        "\"\"\" Los nombres reservados en phyton son palabras que no se permiten usar para nombrar variables o cualquier otro elemento\n",
        "en phyton porque ya tienen una función dentro del lenguaje de programación (aunque yo lo tengo entendido como palabras \n",
        "reservadas), por ser phyton un leguaje muy usado en, pues, todos lados las keywords están todas en inglés, un ejemplo de \n",
        "estas son\"\"\"\n",
        "\n",
        "if \"\"\"(en español significa sí, es para aplicar condiciones para que ocurra algo si hay un antecedente específico)\"\"\"\n",
        "for \"\"\"(en español significa para)\"\"\"\n",
        "True \"\"\"(en español es verdadero, verdad o cierto) es para activar alguna carcterística determinada que pueda adquirir\n",
        "también un valor de falso, o igual para comparar valores.\"\"\"\n",
        "False \"\"\"(falso en español) tiene un uso inverso (digo inverso no en su significado estricto porque desconosco la verdad si\n",
        "es posible que false pueda ser usado de forma independiente a True o si necesariamente los dos van de la mano) a True, si \n",
        "True activa, False desactiva, si True asegura o afirma que dos cosas son algo, False da información de que eso no es así o \n",
        "no se cumple que sean lo mismo\"\"\"\n",
        "def \"\"\"(diminutivo de definition, supongo, que ya traducido sería definición) y es para definir funciones dentro de las \n",
        "que se pueden usar otros comandos como if\"\"\" "
      ],
      "metadata": {
        "id": "fjnz1BrwZkOj"
      },
      "execution_count": null,
      "outputs": []
    },
    {
      "cell_type": "markdown",
      "metadata": {
        "id": "Au8BJfKVY1-X"
      },
      "source": [
        "### Ejercicio 2 (1 punto):\n",
        "En una celda Markdown: Coloca tres ejemplos de nombres de variables que no son válidos en python. Explica por qué no son válidos."
      ]
    },
    {
      "cell_type": "markdown",
      "source": [
        "**allá**\n",
        "\n",
        "esta no se puede usar porque pues lleva tilde\n",
        "\n",
        "**mañana**\n",
        "\n",
        "Lo que ocurre con esa es que usa la letra ñ\n",
        "\n",
        "**print**\n",
        "\n",
        "Ya tiene una función asosiada a esa palabra"
      ],
      "metadata": {
        "id": "901oeSjadwYc"
      }
    },
    {
      "cell_type": "markdown",
      "metadata": {
        "id": "MltpcrmZY1-X"
      },
      "source": [
        "### Ejercicio 3 (3 puntos):\n",
        "Considera el siguiente polinomio: $f(x) = 10x^2 - 2x$. \n",
        "\n",
        "En una celda Markdown escribe:\n",
        "* Los pasos para encontrar sus raíces a través del método del despeje.\n",
        "* Los pasos para encontrar sus raíces a través del método de la chicharronera.\n",
        "\n",
        "En una celda de código, escribe un programa que compruebe que las raíces del polinomio $f(x) = 10x^2 - 2x$ que tu encontraste son correctas. El programa debe imprimir las raíces en la pantalla. (Debes usar la ecuación que obtuviste al depejar el polinomio).\n",
        "\n",
        "En otra celda de código, escribe un programa que encuentre las raíces del polinomio $f(x) = 10x^2 - 2x$ a través del método de la chicharronera. El programa debe imprimir las raíces en la pantalla. (Debes usar la chicharronera).\n",
        "\n",
        "Considera los signos de la chicharronera como dos operaciones diferentes: $(-)$ y $(+)$."
      ]
    },
    {
      "cell_type": "markdown",
      "source": [
        "**1er punto**\n",
        "\n",
        "primero se iguala la función a 0 y teniendo toda la función de un lado de la igualdad se divide todo entre dos para simplificar.\n",
        "Después se factoriza una x del binomio y de ahí se obtiene que valores cumplen para que los factores sean iguales a 0.\n",
        "\n",
        "**2do punto**\n",
        "\n",
        "Para tener las variables usando la fórmula general se requiere que una vez teniendo la ecuación de segundo grado de la forma Ax^2 + Bx + C en las que las letras mayúsculas son ls coeficientes.\n",
        "\n",
        "ya para terminar se poen los valores de las variables de nuestra ecuación ya simplificadas (divididas entre 2) en las que le corresponden dentro de la fórmula general y los valores que se obtienen son los valores de las raíces.\n",
        "\n"
      ],
      "metadata": {
        "id": "8SGtm2bphyNg"
      }
    },
    {
      "cell_type": "code",
      "source": [
        "#Poner los valores de los coeficientes para usarlos en la fórmula general\n",
        "A = 10\n",
        "B = -2\n",
        "C = 0\n",
        "# Poner las operaciones para que den las raices\n",
        "raiz1 = (-B + (B**2 - 4*A*C)**(1/2))/2*A\n",
        "\n",
        "raiz2 = (-B - (B**2 - 4*A*C)**(1/2))/2*A\n",
        "\n",
        "print(raiz1)\n",
        "print(raiz2)"
      ],
      "metadata": {
        "colab": {
          "base_uri": "https://localhost:8080/"
        },
        "id": "7u81VeG2nMVM",
        "outputId": "3fccf9d5-afa6-49a7-ad34-c52a72df516a"
      },
      "execution_count": null,
      "outputs": [
        {
          "output_type": "stream",
          "name": "stdout",
          "text": [
            "20.0\n",
            "0.0\n"
          ]
        }
      ]
    },
    {
      "cell_type": "markdown",
      "metadata": {
        "id": "ASHrFJQSY1-Y"
      },
      "source": [
        "### Ejercicio 4 (3 puntos):\n",
        "Caida libre: El gran Galileo Galilei subió la torre de Pisa para determinar el tiempo que tarda un objeto en caer desde una altura $H$ al suelo. Para ello, colocó un objeto de masa $m=100$ kg en la torre y lo dejó caer. El tiempo que tardó en caer fue $t=0.05616667$ minutos.\n",
        "\n",
        "Considerando que la aceleración de la gravedad es $g=9.8$ $\\frac{m}{s^2}$, escribe un programa que determine la altura de la torre de Pisa. El programa debe imprimir la altura en la pantalla.\n",
        "\n",
        "Recuerda que el movimiento de caída libre simplificado cumple la ecuación: $y(t) = H + vt - \\frac{1}{2}gt^2$.\n"
      ]
    },
    {
      "cell_type": "code",
      "source": [
        "#Pasar los minutos a segundos con una funcion\n",
        "def TiempoSegundos(tm):\n",
        "  resultado = tm*60\n",
        "  return resultado\n",
        "\n",
        "tmpo = TiempoSegundos(0.05616667)\n",
        "tmpo"
      ],
      "metadata": {
        "colab": {
          "base_uri": "https://localhost:8080/"
        },
        "id": "WQ86ZHQH4y4z",
        "outputId": "9ac6bdc5-b22f-40c9-c662-8c8d08bed39f"
      },
      "execution_count": null,
      "outputs": [
        {
          "output_type": "execute_result",
          "data": {
            "text/plain": [
              "3.3700002000000002"
            ]
          },
          "metadata": {},
          "execution_count": 14
        }
      ]
    },
    {
      "cell_type": "code",
      "source": [
        "#la funcion que resuelve con operaciones y devuelve lo que va a ser la altura\n",
        "def altura(y, t, g):\n",
        "  \n",
        "  ValorDeAltura = y + (1/2)*g*t**2\n",
        "  return ValorDeAltura"
      ],
      "metadata": {
        "id": "lMkbBu1QszfZ"
      },
      "execution_count": null,
      "outputs": []
    },
    {
      "cell_type": "code",
      "source": [
        "altura(0, tmpo, 9.8 )"
      ],
      "metadata": {
        "colab": {
          "base_uri": "https://localhost:8080/"
        },
        "id": "JylJDgY6uNPY",
        "outputId": "3ae294c6-d4ed-448b-c71c-330d88e78949"
      },
      "execution_count": null,
      "outputs": [
        {
          "output_type": "execute_result",
          "data": {
            "text/plain": [
              "55.64881660520021"
            ]
          },
          "metadata": {},
          "execution_count": 22
        }
      ]
    },
    {
      "cell_type": "markdown",
      "metadata": {
        "id": "CtjQbXGBY1-Z"
      },
      "source": [
        "### Ejercicio 5 (2 puntos):\n",
        "Considera una lista de números enteros del 0 al 99 : `lista = [0,1, 2, 3, 4, ... , 95, 96, 97, 98, 99]`.\n",
        "En una celda de código, escribe un programa que imprima en la pantalla una la lista que cumpla con las siguientes condiciones:\n",
        "* Los ultimos 10 elementos: debe imprimir lo siguiente `[90, 91, 92, 93, 94, 95, 96, 97, 98, 99]`.\n",
        "* Los primeros 11 elementos: debe imprimir lo siguiente `[0, 1, 2, 3, 4, 5, 6, 7, 8, 9, 10]`.\n",
        "* La serie de elementos de la lista que están entre 60 y 75: debe imprimir lo siguiente `[60, 61, 62, 63, 64, 65, 66, 67, 68, 69, 70, 71, 72, 73, 74, 75]`.\n",
        "* El número 50: debe imprimir lo siguiente `50`.\n",
        "\n",
        "Debes aplicar el concepto de *slicing* para resolver este ejercicio (notación de puntos `[:]`).\n",
        "\n",
        "Puntos menos si se crean listas nuevas para cada caso y/o se seleccionan manualmente los valores.\n",
        "\n",
        "El código de abajo te ayudará a crear la lista del 0 al 99."
      ]
    },
    {
      "cell_type": "code",
      "execution_count": null,
      "metadata": {
        "id": "Yn7FKxciY1-a"
      },
      "outputs": [],
      "source": [
        "lista = list(range(100))"
      ]
    },
    {
      "cell_type": "code",
      "source": [
        "lista[90:100]"
      ],
      "metadata": {
        "colab": {
          "base_uri": "https://localhost:8080/"
        },
        "id": "8tGgHbxNNauR",
        "outputId": "eb2cc558-f340-426e-cc81-af4b6776484b"
      },
      "execution_count": null,
      "outputs": [
        {
          "output_type": "execute_result",
          "data": {
            "text/plain": [
              "[90, 91, 92, 93, 94, 95, 96, 97, 98, 99]"
            ]
          },
          "metadata": {},
          "execution_count": 25
        }
      ]
    },
    {
      "cell_type": "code",
      "source": [
        "lista[0:11]"
      ],
      "metadata": {
        "colab": {
          "base_uri": "https://localhost:8080/"
        },
        "id": "bZG7syLjNpMR",
        "outputId": "9e6c3b31-43c4-4722-c9c4-03cd0840b9f8"
      },
      "execution_count": null,
      "outputs": [
        {
          "output_type": "execute_result",
          "data": {
            "text/plain": [
              "[0, 1, 2, 3, 4, 5, 6, 7, 8, 9, 10]"
            ]
          },
          "metadata": {},
          "execution_count": 27
        }
      ]
    },
    {
      "cell_type": "code",
      "source": [
        "lista[60:76]"
      ],
      "metadata": {
        "colab": {
          "base_uri": "https://localhost:8080/"
        },
        "id": "aW7SruapNzo7",
        "outputId": "797df62b-66c2-4596-dce0-1e64a0e00d4d"
      },
      "execution_count": null,
      "outputs": [
        {
          "output_type": "execute_result",
          "data": {
            "text/plain": [
              "[60, 61, 62, 63, 64, 65, 66, 67, 68, 69, 70, 71, 72, 73, 74, 75]"
            ]
          },
          "metadata": {},
          "execution_count": 28
        }
      ]
    },
    {
      "cell_type": "code",
      "source": [
        "lista[50:51]"
      ],
      "metadata": {
        "colab": {
          "base_uri": "https://localhost:8080/"
        },
        "id": "n064bVD3N7Zo",
        "outputId": "401085a8-78e0-4aa9-d364-2bfd587cea71"
      },
      "execution_count": null,
      "outputs": [
        {
          "output_type": "execute_result",
          "data": {
            "text/plain": [
              "[50]"
            ]
          },
          "metadata": {},
          "execution_count": 30
        }
      ]
    },
    {
      "cell_type": "markdown",
      "metadata": {
        "id": "jjNEVYZvY1-c"
      },
      "source": [
        "### Puntos extras, este ejercicio es opcional (5 puntos):\n",
        "Replica el código visto en clase para simular los volados. Discute los resultados obtenidos. ¿Qué observas? ¿Qué puedes concluir? ¿Qué pasa cuando la cantidad de volados es muy pequeña? ¿Qué pasa cuando la cantidad de volados es muy grande?\n",
        "\n",
        "En caso de errores con librerias no encontradas, debes hacer en una celda de código lo siguiente:\n",
        "\n",
        "`!pip install nombre_de_la_libreria`. Por ejemplo para plotly: `!pip install plotly`."
      ]
    },
    {
      "cell_type": "code",
      "execution_count": null,
      "metadata": {
        "colab": {
          "base_uri": "https://localhost:8080/"
        },
        "id": "l_fb05F0Y1-c",
        "outputId": "632bfa4c-1dd9-4af7-df10-ad59501aec92"
      },
      "outputs": [
        {
          "output_type": "stream",
          "name": "stdout",
          "text": [
            "Looking in indexes: https://pypi.org/simple, https://us-python.pkg.dev/colab-wheels/public/simple/\n",
            "Requirement already satisfied: plotly in /usr/local/lib/python3.8/dist-packages (5.5.0)\n",
            "Requirement already satisfied: six in /usr/local/lib/python3.8/dist-packages (from plotly) (1.15.0)\n",
            "Requirement already satisfied: tenacity>=6.2.0 in /usr/local/lib/python3.8/dist-packages (from plotly) (8.1.0)\n"
          ]
        }
      ],
      "source": [
        "!pip install plotly"
      ]
    },
    {
      "cell_type": "code",
      "source": [
        "import pandas as pd\n",
        "import numpy as np\n",
        "from matplotlib import pyplot as plt\n",
        "import plotly.express as px"
      ],
      "metadata": {
        "id": "yprKA_s8OR6y"
      },
      "execution_count": null,
      "outputs": []
    },
    {
      "cell_type": "code",
      "source": [
        "resultados_de_volados = np.random.randint(low=0, high=2, size=1000)\n",
        "\n",
        "resultados_tabla = pd.DataFrame(resultados_de_volados, columns=['Resultados'])\n",
        "\n",
        "resultados_tabla.Resultados.replace({0:'Águila', 1:'Sol'}, inplace=True)\n",
        "\n",
        "fig = px.histogram(resultados_tabla, text_auto=True, labels={\n",
        "    \"value\": \"Resultado\",\n",
        "    \"count\": \"Frecuencia\"}, template='plotly_white')\n",
        "fig.update_layout(\n",
        "    title=\"Simulación de tirar mil volados\",\n",
        "    xaxis_title=\"Frecuencia\",\n",
        "    yaxis_title=\"Resultado\"\n",
        ")"
      ],
      "metadata": {
        "colab": {
          "base_uri": "https://localhost:8080/",
          "height": 542
        },
        "id": "0Ddz51nbSxiE",
        "outputId": "e3640d63-168a-4993-de32-e0b1d89a9de1"
      },
      "execution_count": null,
      "outputs": [
        {
          "output_type": "display_data",
          "data": {
            "text/html": [
              "<html>\n",
              "<head><meta charset=\"utf-8\" /></head>\n",
              "<body>\n",
              "    <div>            <script src=\"https://cdnjs.cloudflare.com/ajax/libs/mathjax/2.7.5/MathJax.js?config=TeX-AMS-MML_SVG\"></script><script type=\"text/javascript\">if (window.MathJax) {MathJax.Hub.Config({SVG: {font: \"STIX-Web\"}});}</script>                <script type=\"text/javascript\">window.PlotlyConfig = {MathJaxConfig: 'local'};</script>\n",
              "        <script src=\"https://cdn.plot.ly/plotly-2.8.3.min.js\"></script>                <div id=\"0f6485c8-5883-4b4c-875c-5ce1475b4bf3\" class=\"plotly-graph-div\" style=\"height:525px; width:100%;\"></div>            <script type=\"text/javascript\">                                    window.PLOTLYENV=window.PLOTLYENV || {};                                    if (document.getElementById(\"0f6485c8-5883-4b4c-875c-5ce1475b4bf3\")) {                    Plotly.newPlot(                        \"0f6485c8-5883-4b4c-875c-5ce1475b4bf3\",                        [{\"alignmentgroup\":\"True\",\"bingroup\":\"x\",\"hovertemplate\":\"variable=Resultados<br>Resultado=%{x}<br>count=%{y}<extra></extra>\",\"legendgroup\":\"Resultados\",\"marker\":{\"color\":\"#636efa\",\"pattern\":{\"shape\":\"\"}},\"name\":\"Resultados\",\"offsetgroup\":\"Resultados\",\"orientation\":\"v\",\"showlegend\":true,\"texttemplate\":\"%{value}\",\"x\":[\"Sol\",\"\\u00c1guila\",\"Sol\",\"\\u00c1guila\",\"Sol\",\"Sol\",\"\\u00c1guila\",\"Sol\",\"\\u00c1guila\",\"Sol\",\"\\u00c1guila\",\"Sol\",\"\\u00c1guila\",\"\\u00c1guila\",\"\\u00c1guila\",\"Sol\",\"Sol\",\"\\u00c1guila\",\"\\u00c1guila\",\"Sol\",\"\\u00c1guila\",\"\\u00c1guila\",\"\\u00c1guila\",\"\\u00c1guila\",\"Sol\",\"\\u00c1guila\",\"\\u00c1guila\",\"\\u00c1guila\",\"Sol\",\"\\u00c1guila\",\"\\u00c1guila\",\"\\u00c1guila\",\"\\u00c1guila\",\"\\u00c1guila\",\"\\u00c1guila\",\"Sol\",\"\\u00c1guila\",\"\\u00c1guila\",\"\\u00c1guila\",\"Sol\",\"\\u00c1guila\",\"\\u00c1guila\",\"Sol\",\"\\u00c1guila\",\"\\u00c1guila\",\"Sol\",\"\\u00c1guila\",\"\\u00c1guila\",\"Sol\",\"Sol\",\"\\u00c1guila\",\"Sol\",\"Sol\",\"Sol\",\"\\u00c1guila\",\"\\u00c1guila\",\"Sol\",\"\\u00c1guila\",\"Sol\",\"\\u00c1guila\",\"\\u00c1guila\",\"\\u00c1guila\",\"\\u00c1guila\",\"\\u00c1guila\",\"Sol\",\"Sol\",\"Sol\",\"\\u00c1guila\",\"Sol\",\"\\u00c1guila\",\"Sol\",\"Sol\",\"\\u00c1guila\",\"\\u00c1guila\",\"\\u00c1guila\",\"\\u00c1guila\",\"Sol\",\"Sol\",\"\\u00c1guila\",\"Sol\",\"Sol\",\"\\u00c1guila\",\"\\u00c1guila\",\"Sol\",\"\\u00c1guila\",\"Sol\",\"\\u00c1guila\",\"Sol\",\"Sol\",\"Sol\",\"Sol\",\"Sol\",\"\\u00c1guila\",\"Sol\",\"Sol\",\"Sol\",\"\\u00c1guila\",\"\\u00c1guila\",\"\\u00c1guila\",\"Sol\",\"\\u00c1guila\",\"Sol\",\"\\u00c1guila\",\"Sol\",\"\\u00c1guila\",\"\\u00c1guila\",\"Sol\",\"Sol\",\"Sol\",\"Sol\",\"\\u00c1guila\",\"Sol\",\"\\u00c1guila\",\"Sol\",\"\\u00c1guila\",\"Sol\",\"Sol\",\"Sol\",\"\\u00c1guila\",\"Sol\",\"\\u00c1guila\",\"\\u00c1guila\",\"Sol\",\"\\u00c1guila\",\"\\u00c1guila\",\"Sol\",\"\\u00c1guila\",\"Sol\",\"\\u00c1guila\",\"\\u00c1guila\",\"\\u00c1guila\",\"\\u00c1guila\",\"Sol\",\"Sol\",\"Sol\",\"Sol\",\"\\u00c1guila\",\"\\u00c1guila\",\"Sol\",\"Sol\",\"Sol\",\"\\u00c1guila\",\"Sol\",\"Sol\",\"Sol\",\"\\u00c1guila\",\"Sol\",\"\\u00c1guila\",\"\\u00c1guila\",\"\\u00c1guila\",\"Sol\",\"Sol\",\"Sol\",\"\\u00c1guila\",\"\\u00c1guila\",\"Sol\",\"\\u00c1guila\",\"Sol\",\"Sol\",\"Sol\",\"\\u00c1guila\",\"\\u00c1guila\",\"\\u00c1guila\",\"Sol\",\"\\u00c1guila\",\"\\u00c1guila\",\"Sol\",\"Sol\",\"Sol\",\"\\u00c1guila\",\"\\u00c1guila\",\"Sol\",\"Sol\",\"\\u00c1guila\",\"\\u00c1guila\",\"\\u00c1guila\",\"Sol\",\"Sol\",\"Sol\",\"Sol\",\"Sol\",\"Sol\",\"\\u00c1guila\",\"\\u00c1guila\",\"Sol\",\"\\u00c1guila\",\"\\u00c1guila\",\"Sol\",\"\\u00c1guila\",\"\\u00c1guila\",\"\\u00c1guila\",\"Sol\",\"Sol\",\"Sol\",\"Sol\",\"Sol\",\"Sol\",\"\\u00c1guila\",\"\\u00c1guila\",\"\\u00c1guila\",\"\\u00c1guila\",\"Sol\",\"Sol\",\"\\u00c1guila\",\"\\u00c1guila\",\"\\u00c1guila\",\"\\u00c1guila\",\"Sol\",\"Sol\",\"\\u00c1guila\",\"Sol\",\"\\u00c1guila\",\"Sol\",\"Sol\",\"\\u00c1guila\",\"Sol\",\"Sol\",\"\\u00c1guila\",\"Sol\",\"\\u00c1guila\",\"Sol\",\"Sol\",\"\\u00c1guila\",\"\\u00c1guila\",\"Sol\",\"Sol\",\"\\u00c1guila\",\"\\u00c1guila\",\"\\u00c1guila\",\"\\u00c1guila\",\"Sol\",\"Sol\",\"\\u00c1guila\",\"\\u00c1guila\",\"\\u00c1guila\",\"Sol\",\"\\u00c1guila\",\"Sol\",\"\\u00c1guila\",\"\\u00c1guila\",\"\\u00c1guila\",\"\\u00c1guila\",\"Sol\",\"\\u00c1guila\",\"Sol\",\"\\u00c1guila\",\"Sol\",\"\\u00c1guila\",\"\\u00c1guila\",\"Sol\",\"Sol\",\"Sol\",\"Sol\",\"\\u00c1guila\",\"Sol\",\"\\u00c1guila\",\"Sol\",\"Sol\",\"\\u00c1guila\",\"Sol\",\"\\u00c1guila\",\"\\u00c1guila\",\"Sol\",\"Sol\",\"Sol\",\"\\u00c1guila\",\"\\u00c1guila\",\"Sol\",\"Sol\",\"\\u00c1guila\",\"Sol\",\"\\u00c1guila\",\"\\u00c1guila\",\"\\u00c1guila\",\"Sol\",\"Sol\",\"\\u00c1guila\",\"Sol\",\"\\u00c1guila\",\"Sol\",\"Sol\",\"Sol\",\"\\u00c1guila\",\"Sol\",\"Sol\",\"Sol\",\"\\u00c1guila\",\"Sol\",\"Sol\",\"\\u00c1guila\",\"Sol\",\"\\u00c1guila\",\"Sol\",\"\\u00c1guila\",\"\\u00c1guila\",\"Sol\",\"Sol\",\"Sol\",\"\\u00c1guila\",\"\\u00c1guila\",\"Sol\",\"\\u00c1guila\",\"Sol\",\"\\u00c1guila\",\"Sol\",\"Sol\",\"\\u00c1guila\",\"\\u00c1guila\",\"\\u00c1guila\",\"Sol\",\"Sol\",\"\\u00c1guila\",\"Sol\",\"Sol\",\"\\u00c1guila\",\"\\u00c1guila\",\"\\u00c1guila\",\"Sol\",\"\\u00c1guila\",\"Sol\",\"\\u00c1guila\",\"\\u00c1guila\",\"Sol\",\"\\u00c1guila\",\"\\u00c1guila\",\"\\u00c1guila\",\"\\u00c1guila\",\"\\u00c1guila\",\"\\u00c1guila\",\"Sol\",\"\\u00c1guila\",\"Sol\",\"\\u00c1guila\",\"\\u00c1guila\",\"Sol\",\"Sol\",\"\\u00c1guila\",\"Sol\",\"Sol\",\"Sol\",\"\\u00c1guila\",\"\\u00c1guila\",\"\\u00c1guila\",\"Sol\",\"Sol\",\"\\u00c1guila\",\"\\u00c1guila\",\"Sol\",\"Sol\",\"\\u00c1guila\",\"\\u00c1guila\",\"Sol\",\"\\u00c1guila\",\"Sol\",\"\\u00c1guila\",\"Sol\",\"Sol\",\"Sol\",\"Sol\",\"Sol\",\"\\u00c1guila\",\"Sol\",\"\\u00c1guila\",\"Sol\",\"\\u00c1guila\",\"\\u00c1guila\",\"Sol\",\"\\u00c1guila\",\"Sol\",\"\\u00c1guila\",\"\\u00c1guila\",\"\\u00c1guila\",\"Sol\",\"Sol\",\"Sol\",\"Sol\",\"\\u00c1guila\",\"Sol\",\"\\u00c1guila\",\"\\u00c1guila\",\"Sol\",\"Sol\",\"\\u00c1guila\",\"\\u00c1guila\",\"\\u00c1guila\",\"Sol\",\"\\u00c1guila\",\"Sol\",\"\\u00c1guila\",\"\\u00c1guila\",\"\\u00c1guila\",\"\\u00c1guila\",\"Sol\",\"Sol\",\"Sol\",\"Sol\",\"\\u00c1guila\",\"\\u00c1guila\",\"\\u00c1guila\",\"\\u00c1guila\",\"Sol\",\"Sol\",\"\\u00c1guila\",\"Sol\",\"Sol\",\"\\u00c1guila\",\"\\u00c1guila\",\"Sol\",\"Sol\",\"\\u00c1guila\",\"Sol\",\"Sol\",\"\\u00c1guila\",\"Sol\",\"\\u00c1guila\",\"\\u00c1guila\",\"\\u00c1guila\",\"Sol\",\"Sol\",\"\\u00c1guila\",\"Sol\",\"Sol\",\"\\u00c1guila\",\"Sol\",\"\\u00c1guila\",\"Sol\",\"Sol\",\"\\u00c1guila\",\"\\u00c1guila\",\"Sol\",\"Sol\",\"Sol\",\"Sol\",\"\\u00c1guila\",\"Sol\",\"\\u00c1guila\",\"\\u00c1guila\",\"Sol\",\"\\u00c1guila\",\"\\u00c1guila\",\"Sol\",\"Sol\",\"Sol\",\"\\u00c1guila\",\"Sol\",\"Sol\",\"Sol\",\"\\u00c1guila\",\"\\u00c1guila\",\"\\u00c1guila\",\"Sol\",\"\\u00c1guila\",\"\\u00c1guila\",\"Sol\",\"\\u00c1guila\",\"Sol\",\"\\u00c1guila\",\"\\u00c1guila\",\"Sol\",\"Sol\",\"\\u00c1guila\",\"Sol\",\"Sol\",\"Sol\",\"\\u00c1guila\",\"Sol\",\"\\u00c1guila\",\"\\u00c1guila\",\"Sol\",\"\\u00c1guila\",\"Sol\",\"Sol\",\"Sol\",\"\\u00c1guila\",\"Sol\",\"\\u00c1guila\",\"\\u00c1guila\",\"Sol\",\"\\u00c1guila\",\"\\u00c1guila\",\"Sol\",\"\\u00c1guila\",\"\\u00c1guila\",\"\\u00c1guila\",\"Sol\",\"\\u00c1guila\",\"Sol\",\"Sol\",\"Sol\",\"\\u00c1guila\",\"Sol\",\"Sol\",\"\\u00c1guila\",\"Sol\",\"\\u00c1guila\",\"\\u00c1guila\",\"\\u00c1guila\",\"Sol\",\"\\u00c1guila\",\"Sol\",\"\\u00c1guila\",\"Sol\",\"\\u00c1guila\",\"\\u00c1guila\",\"Sol\",\"Sol\",\"\\u00c1guila\",\"\\u00c1guila\",\"\\u00c1guila\",\"\\u00c1guila\",\"Sol\",\"\\u00c1guila\",\"Sol\",\"Sol\",\"\\u00c1guila\",\"Sol\",\"\\u00c1guila\",\"Sol\",\"\\u00c1guila\",\"Sol\",\"Sol\",\"Sol\",\"\\u00c1guila\",\"Sol\",\"\\u00c1guila\",\"\\u00c1guila\",\"Sol\",\"Sol\",\"\\u00c1guila\",\"Sol\",\"\\u00c1guila\",\"Sol\",\"Sol\",\"\\u00c1guila\",\"\\u00c1guila\",\"Sol\",\"Sol\",\"\\u00c1guila\",\"\\u00c1guila\",\"Sol\",\"Sol\",\"Sol\",\"\\u00c1guila\",\"Sol\",\"Sol\",\"Sol\",\"Sol\",\"Sol\",\"Sol\",\"Sol\",\"Sol\",\"Sol\",\"\\u00c1guila\",\"Sol\",\"Sol\",\"Sol\",\"Sol\",\"Sol\",\"Sol\",\"Sol\",\"Sol\",\"\\u00c1guila\",\"\\u00c1guila\",\"Sol\",\"Sol\",\"\\u00c1guila\",\"Sol\",\"Sol\",\"Sol\",\"Sol\",\"Sol\",\"\\u00c1guila\",\"Sol\",\"\\u00c1guila\",\"\\u00c1guila\",\"Sol\",\"Sol\",\"\\u00c1guila\",\"\\u00c1guila\",\"\\u00c1guila\",\"Sol\",\"\\u00c1guila\",\"\\u00c1guila\",\"Sol\",\"\\u00c1guila\",\"\\u00c1guila\",\"Sol\",\"\\u00c1guila\",\"\\u00c1guila\",\"Sol\",\"Sol\",\"\\u00c1guila\",\"Sol\",\"\\u00c1guila\",\"\\u00c1guila\",\"\\u00c1guila\",\"\\u00c1guila\",\"\\u00c1guila\",\"Sol\",\"\\u00c1guila\",\"Sol\",\"Sol\",\"\\u00c1guila\",\"\\u00c1guila\",\"Sol\",\"Sol\",\"Sol\",\"Sol\",\"\\u00c1guila\",\"Sol\",\"\\u00c1guila\",\"\\u00c1guila\",\"Sol\",\"\\u00c1guila\",\"Sol\",\"\\u00c1guila\",\"Sol\",\"Sol\",\"Sol\",\"\\u00c1guila\",\"\\u00c1guila\",\"\\u00c1guila\",\"Sol\",\"\\u00c1guila\",\"Sol\",\"Sol\",\"Sol\",\"\\u00c1guila\",\"\\u00c1guila\",\"\\u00c1guila\",\"Sol\",\"Sol\",\"Sol\",\"\\u00c1guila\",\"Sol\",\"Sol\",\"\\u00c1guila\",\"Sol\",\"Sol\",\"Sol\",\"\\u00c1guila\",\"Sol\",\"Sol\",\"Sol\",\"Sol\",\"\\u00c1guila\",\"\\u00c1guila\",\"\\u00c1guila\",\"\\u00c1guila\",\"\\u00c1guila\",\"\\u00c1guila\",\"Sol\",\"\\u00c1guila\",\"\\u00c1guila\",\"\\u00c1guila\",\"Sol\",\"Sol\",\"\\u00c1guila\",\"\\u00c1guila\",\"\\u00c1guila\",\"\\u00c1guila\",\"\\u00c1guila\",\"\\u00c1guila\",\"Sol\",\"\\u00c1guila\",\"Sol\",\"\\u00c1guila\",\"\\u00c1guila\",\"Sol\",\"Sol\",\"\\u00c1guila\",\"\\u00c1guila\",\"Sol\",\"Sol\",\"\\u00c1guila\",\"Sol\",\"Sol\",\"\\u00c1guila\",\"Sol\",\"Sol\",\"Sol\",\"Sol\",\"\\u00c1guila\",\"Sol\",\"\\u00c1guila\",\"\\u00c1guila\",\"\\u00c1guila\",\"Sol\",\"Sol\",\"Sol\",\"\\u00c1guila\",\"Sol\",\"Sol\",\"Sol\",\"Sol\",\"\\u00c1guila\",\"Sol\",\"\\u00c1guila\",\"\\u00c1guila\",\"\\u00c1guila\",\"Sol\",\"\\u00c1guila\",\"\\u00c1guila\",\"Sol\",\"Sol\",\"Sol\",\"\\u00c1guila\",\"\\u00c1guila\",\"Sol\",\"Sol\",\"Sol\",\"\\u00c1guila\",\"\\u00c1guila\",\"\\u00c1guila\",\"\\u00c1guila\",\"\\u00c1guila\",\"\\u00c1guila\",\"Sol\",\"Sol\",\"\\u00c1guila\",\"\\u00c1guila\",\"Sol\",\"\\u00c1guila\",\"Sol\",\"\\u00c1guila\",\"Sol\",\"Sol\",\"\\u00c1guila\",\"\\u00c1guila\",\"\\u00c1guila\",\"Sol\",\"Sol\",\"\\u00c1guila\",\"Sol\",\"Sol\",\"\\u00c1guila\",\"\\u00c1guila\",\"\\u00c1guila\",\"\\u00c1guila\",\"\\u00c1guila\",\"\\u00c1guila\",\"Sol\",\"Sol\",\"\\u00c1guila\",\"\\u00c1guila\",\"Sol\",\"\\u00c1guila\",\"Sol\",\"\\u00c1guila\",\"Sol\",\"Sol\",\"Sol\",\"Sol\",\"\\u00c1guila\",\"Sol\",\"\\u00c1guila\",\"Sol\",\"Sol\",\"Sol\",\"Sol\",\"\\u00c1guila\",\"\\u00c1guila\",\"\\u00c1guila\",\"\\u00c1guila\",\"\\u00c1guila\",\"Sol\",\"\\u00c1guila\",\"\\u00c1guila\",\"Sol\",\"\\u00c1guila\",\"Sol\",\"\\u00c1guila\",\"\\u00c1guila\",\"\\u00c1guila\",\"Sol\",\"\\u00c1guila\",\"\\u00c1guila\",\"\\u00c1guila\",\"Sol\",\"\\u00c1guila\",\"Sol\",\"\\u00c1guila\",\"\\u00c1guila\",\"Sol\",\"Sol\",\"Sol\",\"Sol\",\"Sol\",\"\\u00c1guila\",\"Sol\",\"Sol\",\"\\u00c1guila\",\"Sol\",\"\\u00c1guila\",\"Sol\",\"\\u00c1guila\",\"Sol\",\"Sol\",\"Sol\",\"\\u00c1guila\",\"\\u00c1guila\",\"\\u00c1guila\",\"\\u00c1guila\",\"Sol\",\"Sol\",\"\\u00c1guila\",\"Sol\",\"\\u00c1guila\",\"\\u00c1guila\",\"Sol\",\"\\u00c1guila\",\"\\u00c1guila\",\"\\u00c1guila\",\"\\u00c1guila\",\"Sol\",\"\\u00c1guila\",\"Sol\",\"\\u00c1guila\",\"\\u00c1guila\",\"Sol\",\"Sol\",\"\\u00c1guila\",\"Sol\",\"Sol\",\"\\u00c1guila\",\"\\u00c1guila\",\"\\u00c1guila\",\"Sol\",\"Sol\",\"Sol\",\"\\u00c1guila\",\"\\u00c1guila\",\"Sol\",\"Sol\",\"Sol\",\"\\u00c1guila\",\"Sol\",\"\\u00c1guila\",\"Sol\",\"\\u00c1guila\",\"Sol\",\"Sol\",\"Sol\",\"Sol\",\"Sol\",\"\\u00c1guila\",\"Sol\",\"Sol\",\"\\u00c1guila\",\"\\u00c1guila\",\"\\u00c1guila\",\"Sol\",\"\\u00c1guila\",\"\\u00c1guila\",\"\\u00c1guila\",\"Sol\",\"Sol\",\"Sol\",\"Sol\",\"Sol\",\"Sol\",\"Sol\",\"\\u00c1guila\",\"\\u00c1guila\",\"\\u00c1guila\",\"\\u00c1guila\",\"Sol\",\"\\u00c1guila\",\"\\u00c1guila\",\"\\u00c1guila\",\"\\u00c1guila\",\"\\u00c1guila\",\"\\u00c1guila\",\"Sol\",\"\\u00c1guila\",\"Sol\",\"\\u00c1guila\",\"\\u00c1guila\",\"\\u00c1guila\",\"\\u00c1guila\",\"Sol\",\"Sol\",\"Sol\",\"\\u00c1guila\",\"Sol\",\"\\u00c1guila\",\"\\u00c1guila\",\"Sol\",\"\\u00c1guila\",\"\\u00c1guila\",\"\\u00c1guila\",\"Sol\",\"\\u00c1guila\",\"Sol\",\"\\u00c1guila\",\"\\u00c1guila\",\"\\u00c1guila\",\"\\u00c1guila\",\"\\u00c1guila\",\"Sol\",\"\\u00c1guila\",\"\\u00c1guila\",\"Sol\",\"Sol\",\"Sol\",\"\\u00c1guila\",\"Sol\",\"\\u00c1guila\",\"\\u00c1guila\",\"\\u00c1guila\",\"\\u00c1guila\",\"\\u00c1guila\",\"\\u00c1guila\",\"\\u00c1guila\",\"Sol\",\"\\u00c1guila\",\"Sol\",\"\\u00c1guila\",\"\\u00c1guila\",\"\\u00c1guila\",\"Sol\",\"\\u00c1guila\",\"Sol\",\"Sol\",\"\\u00c1guila\",\"Sol\",\"Sol\",\"Sol\",\"\\u00c1guila\",\"\\u00c1guila\",\"Sol\",\"\\u00c1guila\",\"Sol\",\"\\u00c1guila\",\"Sol\",\"\\u00c1guila\",\"Sol\",\"\\u00c1guila\",\"\\u00c1guila\",\"Sol\",\"Sol\",\"\\u00c1guila\",\"Sol\",\"Sol\",\"Sol\",\"\\u00c1guila\",\"Sol\",\"\\u00c1guila\",\"\\u00c1guila\",\"Sol\",\"Sol\",\"Sol\",\"Sol\",\"\\u00c1guila\",\"\\u00c1guila\",\"Sol\",\"Sol\",\"\\u00c1guila\",\"Sol\",\"Sol\",\"\\u00c1guila\",\"\\u00c1guila\",\"Sol\",\"Sol\",\"\\u00c1guila\",\"\\u00c1guila\",\"\\u00c1guila\",\"Sol\",\"Sol\",\"Sol\",\"\\u00c1guila\",\"Sol\",\"\\u00c1guila\",\"Sol\",\"\\u00c1guila\",\"Sol\",\"\\u00c1guila\",\"Sol\",\"Sol\",\"Sol\",\"Sol\",\"\\u00c1guila\",\"Sol\",\"Sol\",\"Sol\",\"Sol\",\"Sol\",\"Sol\",\"\\u00c1guila\",\"\\u00c1guila\",\"\\u00c1guila\",\"Sol\",\"Sol\",\"\\u00c1guila\",\"Sol\",\"Sol\",\"Sol\",\"Sol\",\"\\u00c1guila\",\"\\u00c1guila\"],\"xaxis\":\"x\",\"yaxis\":\"y\",\"type\":\"histogram\"}],                        {\"template\":{\"data\":{\"barpolar\":[{\"marker\":{\"line\":{\"color\":\"white\",\"width\":0.5},\"pattern\":{\"fillmode\":\"overlay\",\"size\":10,\"solidity\":0.2}},\"type\":\"barpolar\"}],\"bar\":[{\"error_x\":{\"color\":\"#2a3f5f\"},\"error_y\":{\"color\":\"#2a3f5f\"},\"marker\":{\"line\":{\"color\":\"white\",\"width\":0.5},\"pattern\":{\"fillmode\":\"overlay\",\"size\":10,\"solidity\":0.2}},\"type\":\"bar\"}],\"carpet\":[{\"aaxis\":{\"endlinecolor\":\"#2a3f5f\",\"gridcolor\":\"#C8D4E3\",\"linecolor\":\"#C8D4E3\",\"minorgridcolor\":\"#C8D4E3\",\"startlinecolor\":\"#2a3f5f\"},\"baxis\":{\"endlinecolor\":\"#2a3f5f\",\"gridcolor\":\"#C8D4E3\",\"linecolor\":\"#C8D4E3\",\"minorgridcolor\":\"#C8D4E3\",\"startlinecolor\":\"#2a3f5f\"},\"type\":\"carpet\"}],\"choropleth\":[{\"colorbar\":{\"outlinewidth\":0,\"ticks\":\"\"},\"type\":\"choropleth\"}],\"contourcarpet\":[{\"colorbar\":{\"outlinewidth\":0,\"ticks\":\"\"},\"type\":\"contourcarpet\"}],\"contour\":[{\"colorbar\":{\"outlinewidth\":0,\"ticks\":\"\"},\"colorscale\":[[0.0,\"#0d0887\"],[0.1111111111111111,\"#46039f\"],[0.2222222222222222,\"#7201a8\"],[0.3333333333333333,\"#9c179e\"],[0.4444444444444444,\"#bd3786\"],[0.5555555555555556,\"#d8576b\"],[0.6666666666666666,\"#ed7953\"],[0.7777777777777778,\"#fb9f3a\"],[0.8888888888888888,\"#fdca26\"],[1.0,\"#f0f921\"]],\"type\":\"contour\"}],\"heatmapgl\":[{\"colorbar\":{\"outlinewidth\":0,\"ticks\":\"\"},\"colorscale\":[[0.0,\"#0d0887\"],[0.1111111111111111,\"#46039f\"],[0.2222222222222222,\"#7201a8\"],[0.3333333333333333,\"#9c179e\"],[0.4444444444444444,\"#bd3786\"],[0.5555555555555556,\"#d8576b\"],[0.6666666666666666,\"#ed7953\"],[0.7777777777777778,\"#fb9f3a\"],[0.8888888888888888,\"#fdca26\"],[1.0,\"#f0f921\"]],\"type\":\"heatmapgl\"}],\"heatmap\":[{\"colorbar\":{\"outlinewidth\":0,\"ticks\":\"\"},\"colorscale\":[[0.0,\"#0d0887\"],[0.1111111111111111,\"#46039f\"],[0.2222222222222222,\"#7201a8\"],[0.3333333333333333,\"#9c179e\"],[0.4444444444444444,\"#bd3786\"],[0.5555555555555556,\"#d8576b\"],[0.6666666666666666,\"#ed7953\"],[0.7777777777777778,\"#fb9f3a\"],[0.8888888888888888,\"#fdca26\"],[1.0,\"#f0f921\"]],\"type\":\"heatmap\"}],\"histogram2dcontour\":[{\"colorbar\":{\"outlinewidth\":0,\"ticks\":\"\"},\"colorscale\":[[0.0,\"#0d0887\"],[0.1111111111111111,\"#46039f\"],[0.2222222222222222,\"#7201a8\"],[0.3333333333333333,\"#9c179e\"],[0.4444444444444444,\"#bd3786\"],[0.5555555555555556,\"#d8576b\"],[0.6666666666666666,\"#ed7953\"],[0.7777777777777778,\"#fb9f3a\"],[0.8888888888888888,\"#fdca26\"],[1.0,\"#f0f921\"]],\"type\":\"histogram2dcontour\"}],\"histogram2d\":[{\"colorbar\":{\"outlinewidth\":0,\"ticks\":\"\"},\"colorscale\":[[0.0,\"#0d0887\"],[0.1111111111111111,\"#46039f\"],[0.2222222222222222,\"#7201a8\"],[0.3333333333333333,\"#9c179e\"],[0.4444444444444444,\"#bd3786\"],[0.5555555555555556,\"#d8576b\"],[0.6666666666666666,\"#ed7953\"],[0.7777777777777778,\"#fb9f3a\"],[0.8888888888888888,\"#fdca26\"],[1.0,\"#f0f921\"]],\"type\":\"histogram2d\"}],\"histogram\":[{\"marker\":{\"pattern\":{\"fillmode\":\"overlay\",\"size\":10,\"solidity\":0.2}},\"type\":\"histogram\"}],\"mesh3d\":[{\"colorbar\":{\"outlinewidth\":0,\"ticks\":\"\"},\"type\":\"mesh3d\"}],\"parcoords\":[{\"line\":{\"colorbar\":{\"outlinewidth\":0,\"ticks\":\"\"}},\"type\":\"parcoords\"}],\"pie\":[{\"automargin\":true,\"type\":\"pie\"}],\"scatter3d\":[{\"line\":{\"colorbar\":{\"outlinewidth\":0,\"ticks\":\"\"}},\"marker\":{\"colorbar\":{\"outlinewidth\":0,\"ticks\":\"\"}},\"type\":\"scatter3d\"}],\"scattercarpet\":[{\"marker\":{\"colorbar\":{\"outlinewidth\":0,\"ticks\":\"\"}},\"type\":\"scattercarpet\"}],\"scattergeo\":[{\"marker\":{\"colorbar\":{\"outlinewidth\":0,\"ticks\":\"\"}},\"type\":\"scattergeo\"}],\"scattergl\":[{\"marker\":{\"colorbar\":{\"outlinewidth\":0,\"ticks\":\"\"}},\"type\":\"scattergl\"}],\"scattermapbox\":[{\"marker\":{\"colorbar\":{\"outlinewidth\":0,\"ticks\":\"\"}},\"type\":\"scattermapbox\"}],\"scatterpolargl\":[{\"marker\":{\"colorbar\":{\"outlinewidth\":0,\"ticks\":\"\"}},\"type\":\"scatterpolargl\"}],\"scatterpolar\":[{\"marker\":{\"colorbar\":{\"outlinewidth\":0,\"ticks\":\"\"}},\"type\":\"scatterpolar\"}],\"scatter\":[{\"marker\":{\"colorbar\":{\"outlinewidth\":0,\"ticks\":\"\"}},\"type\":\"scatter\"}],\"scatterternary\":[{\"marker\":{\"colorbar\":{\"outlinewidth\":0,\"ticks\":\"\"}},\"type\":\"scatterternary\"}],\"surface\":[{\"colorbar\":{\"outlinewidth\":0,\"ticks\":\"\"},\"colorscale\":[[0.0,\"#0d0887\"],[0.1111111111111111,\"#46039f\"],[0.2222222222222222,\"#7201a8\"],[0.3333333333333333,\"#9c179e\"],[0.4444444444444444,\"#bd3786\"],[0.5555555555555556,\"#d8576b\"],[0.6666666666666666,\"#ed7953\"],[0.7777777777777778,\"#fb9f3a\"],[0.8888888888888888,\"#fdca26\"],[1.0,\"#f0f921\"]],\"type\":\"surface\"}],\"table\":[{\"cells\":{\"fill\":{\"color\":\"#EBF0F8\"},\"line\":{\"color\":\"white\"}},\"header\":{\"fill\":{\"color\":\"#C8D4E3\"},\"line\":{\"color\":\"white\"}},\"type\":\"table\"}]},\"layout\":{\"annotationdefaults\":{\"arrowcolor\":\"#2a3f5f\",\"arrowhead\":0,\"arrowwidth\":1},\"autotypenumbers\":\"strict\",\"coloraxis\":{\"colorbar\":{\"outlinewidth\":0,\"ticks\":\"\"}},\"colorscale\":{\"diverging\":[[0,\"#8e0152\"],[0.1,\"#c51b7d\"],[0.2,\"#de77ae\"],[0.3,\"#f1b6da\"],[0.4,\"#fde0ef\"],[0.5,\"#f7f7f7\"],[0.6,\"#e6f5d0\"],[0.7,\"#b8e186\"],[0.8,\"#7fbc41\"],[0.9,\"#4d9221\"],[1,\"#276419\"]],\"sequential\":[[0.0,\"#0d0887\"],[0.1111111111111111,\"#46039f\"],[0.2222222222222222,\"#7201a8\"],[0.3333333333333333,\"#9c179e\"],[0.4444444444444444,\"#bd3786\"],[0.5555555555555556,\"#d8576b\"],[0.6666666666666666,\"#ed7953\"],[0.7777777777777778,\"#fb9f3a\"],[0.8888888888888888,\"#fdca26\"],[1.0,\"#f0f921\"]],\"sequentialminus\":[[0.0,\"#0d0887\"],[0.1111111111111111,\"#46039f\"],[0.2222222222222222,\"#7201a8\"],[0.3333333333333333,\"#9c179e\"],[0.4444444444444444,\"#bd3786\"],[0.5555555555555556,\"#d8576b\"],[0.6666666666666666,\"#ed7953\"],[0.7777777777777778,\"#fb9f3a\"],[0.8888888888888888,\"#fdca26\"],[1.0,\"#f0f921\"]]},\"colorway\":[\"#636efa\",\"#EF553B\",\"#00cc96\",\"#ab63fa\",\"#FFA15A\",\"#19d3f3\",\"#FF6692\",\"#B6E880\",\"#FF97FF\",\"#FECB52\"],\"font\":{\"color\":\"#2a3f5f\"},\"geo\":{\"bgcolor\":\"white\",\"lakecolor\":\"white\",\"landcolor\":\"white\",\"showlakes\":true,\"showland\":true,\"subunitcolor\":\"#C8D4E3\"},\"hoverlabel\":{\"align\":\"left\"},\"hovermode\":\"closest\",\"mapbox\":{\"style\":\"light\"},\"paper_bgcolor\":\"white\",\"plot_bgcolor\":\"white\",\"polar\":{\"angularaxis\":{\"gridcolor\":\"#EBF0F8\",\"linecolor\":\"#EBF0F8\",\"ticks\":\"\"},\"bgcolor\":\"white\",\"radialaxis\":{\"gridcolor\":\"#EBF0F8\",\"linecolor\":\"#EBF0F8\",\"ticks\":\"\"}},\"scene\":{\"xaxis\":{\"backgroundcolor\":\"white\",\"gridcolor\":\"#DFE8F3\",\"gridwidth\":2,\"linecolor\":\"#EBF0F8\",\"showbackground\":true,\"ticks\":\"\",\"zerolinecolor\":\"#EBF0F8\"},\"yaxis\":{\"backgroundcolor\":\"white\",\"gridcolor\":\"#DFE8F3\",\"gridwidth\":2,\"linecolor\":\"#EBF0F8\",\"showbackground\":true,\"ticks\":\"\",\"zerolinecolor\":\"#EBF0F8\"},\"zaxis\":{\"backgroundcolor\":\"white\",\"gridcolor\":\"#DFE8F3\",\"gridwidth\":2,\"linecolor\":\"#EBF0F8\",\"showbackground\":true,\"ticks\":\"\",\"zerolinecolor\":\"#EBF0F8\"}},\"shapedefaults\":{\"line\":{\"color\":\"#2a3f5f\"}},\"ternary\":{\"aaxis\":{\"gridcolor\":\"#DFE8F3\",\"linecolor\":\"#A2B1C6\",\"ticks\":\"\"},\"baxis\":{\"gridcolor\":\"#DFE8F3\",\"linecolor\":\"#A2B1C6\",\"ticks\":\"\"},\"bgcolor\":\"white\",\"caxis\":{\"gridcolor\":\"#DFE8F3\",\"linecolor\":\"#A2B1C6\",\"ticks\":\"\"}},\"title\":{\"x\":0.05},\"xaxis\":{\"automargin\":true,\"gridcolor\":\"#EBF0F8\",\"linecolor\":\"#EBF0F8\",\"ticks\":\"\",\"title\":{\"standoff\":15},\"zerolinecolor\":\"#EBF0F8\",\"zerolinewidth\":2},\"yaxis\":{\"automargin\":true,\"gridcolor\":\"#EBF0F8\",\"linecolor\":\"#EBF0F8\",\"ticks\":\"\",\"title\":{\"standoff\":15},\"zerolinecolor\":\"#EBF0F8\",\"zerolinewidth\":2}}},\"xaxis\":{\"anchor\":\"y\",\"domain\":[0.0,1.0],\"title\":{\"text\":\"Frecuencia\"}},\"yaxis\":{\"anchor\":\"x\",\"domain\":[0.0,1.0],\"title\":{\"text\":\"Resultado\"}},\"legend\":{\"title\":{\"text\":\"variable\"},\"tracegroupgap\":0},\"margin\":{\"t\":60},\"barmode\":\"relative\",\"title\":{\"text\":\"Simulaci\\u00f3n de tirar mil volados\"}},                        {\"responsive\": true}                    ).then(function(){\n",
              "                            \n",
              "var gd = document.getElementById('0f6485c8-5883-4b4c-875c-5ce1475b4bf3');\n",
              "var x = new MutationObserver(function (mutations, observer) {{\n",
              "        var display = window.getComputedStyle(gd).display;\n",
              "        if (!display || display === 'none') {{\n",
              "            console.log([gd, 'removed!']);\n",
              "            Plotly.purge(gd);\n",
              "            observer.disconnect();\n",
              "        }}\n",
              "}});\n",
              "\n",
              "// Listen for the removal of the full notebook cells\n",
              "var notebookContainer = gd.closest('#notebook-container');\n",
              "if (notebookContainer) {{\n",
              "    x.observe(notebookContainer, {childList: true});\n",
              "}}\n",
              "\n",
              "// Listen for the clearing of the current output cell\n",
              "var outputEl = gd.closest('.output');\n",
              "if (outputEl) {{\n",
              "    x.observe(outputEl, {childList: true});\n",
              "}}\n",
              "\n",
              "                        })                };                            </script>        </div>\n",
              "</body>\n",
              "</html>"
            ]
          },
          "metadata": {}
        }
      ]
    },
    {
      "cell_type": "markdown",
      "source": [],
      "metadata": {
        "id": "MTOy5fpSUsE6"
      }
    }
  ],
  "metadata": {
    "kernelspec": {
      "display_name": "Python 3.9.13 ('base')",
      "language": "python",
      "name": "python3"
    },
    "language_info": {
      "codemirror_mode": {
        "name": "ipython",
        "version": 3
      },
      "file_extension": ".py",
      "mimetype": "text/x-python",
      "name": "python",
      "nbconvert_exporter": "python",
      "pygments_lexer": "ipython3",
      "version": "3.9.13"
    },
    "orig_nbformat": 4,
    "vscode": {
      "interpreter": {
        "hash": "ad2bdc8ecc057115af97d19610ffacc2b4e99fae6737bb82f5d7fb13d2f2c186"
      }
    },
    "colab": {
      "provenance": []
    }
  },
  "nbformat": 4,
  "nbformat_minor": 0
}